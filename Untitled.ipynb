{
 "cells": [
  {
   "cell_type": "code",
   "execution_count": 2,
   "metadata": {},
   "outputs": [],
   "source": [
    "import pandas as pd\n",
    "import os"
   ]
  },
  {
   "cell_type": "code",
   "execution_count": 5,
   "metadata": {},
   "outputs": [],
   "source": [
    "path = 'data_real'\n",
    "df = pd.read_csv(os.path.join(path,'visitatie_form.csv'))#.iloc[:,:60]"
   ]
  },
  {
   "cell_type": "code",
   "execution_count": 6,
   "metadata": {},
   "outputs": [
    {
     "data": {
      "text/plain": [
       "14"
      ]
     },
     "execution_count": 6,
     "metadata": {},
     "output_type": "execute_result"
    }
   ],
   "source": [
    "len(set(df['Praktijkcode van de praktijk die bezocht wordt']))"
   ]
  },
  {
   "cell_type": "code",
   "execution_count": 13,
   "metadata": {},
   "outputs": [],
   "source": [
    "dct = df.iloc[0,:]"
   ]
  },
  {
   "cell_type": "code",
   "execution_count": null,
   "metadata": {},
   "outputs": [],
   "source": [
    "class Form(object):\n",
    "    def __init__(self, pd_serie):\n",
    "        self.dct = dict(pd_serie)\n",
    "        # TODO get basic info {\"naam\",\"naam code\",\"Aantal Therapeuten\",\"bezoekende therapeut code\",\"bezoekende prakijk}\n",
    "        self.get_basic_info()\n",
    "\n",
    "    def get_basic_info():\n",
    "        self.praktijk_code = dct[\"Praktijkcode van de praktijk die bezocht wordt\"]\n",
    "        self.bezoekende_therapeut_code = self.dct[\"Therapeutcode bezoekende therapeut?\"]\n",
    "        \n"
   ]
  },
  {
   "cell_type": "code",
   "execution_count": 14,
   "metadata": {},
   "outputs": [
    {
     "data": {
      "text/plain": [
       "934230101"
      ]
     },
     "execution_count": 14,
     "metadata": {},
     "output_type": "execute_result"
    }
   ],
   "source": [
    "dct[\"Therapeutcode bezoekende therapeut?\"]"
   ]
  },
  {
   "cell_type": "code",
   "execution_count": 16,
   "metadata": {},
   "outputs": [
    {
     "data": {
      "text/plain": [
       "5714307"
      ]
     },
     "execution_count": 16,
     "metadata": {},
     "output_type": "execute_result"
    }
   ],
   "source": [
    "dct[\"Praktijkcode van de praktijk die bezocht wordt\"]"
   ]
  },
  {
   "cell_type": "code",
   "execution_count": 42,
   "metadata": {},
   "outputs": [
    {
     "name": "stdout",
     "output_type": "stream",
     "text": [
      "\"Fysiotherapiepraktijk Donker Waal en Hilbers\"\n",
      "f.a.tauber@upcmail.nl\n"
     ]
    }
   ],
   "source": [
    "def find_inschrijving_code(code = \"2879108\"):\n",
    "    with open(os.path.join(path,'gegevens.csv')) as f:\n",
    "        for line in f:\n",
    "            splited_line =line.replace(\"\\n\",\"\").split(\",\")\n",
    "            assert len(splited_line ) == 10, splited_line\n",
    "            if splited_line[5] ==code:\n",
    "                return {\"naam\":splited_line[7],\n",
    "                        \"mail\":splited_line[9]\n",
    "                       }\n",
    "            \n",
    "find_inschrijving_code()\n",
    "# df_gegevens"
   ]
  },
  {
   "cell_type": "code",
   "execution_count": null,
   "metadata": {},
   "outputs": [],
   "source": []
  }
 ],
 "metadata": {
  "kernelspec": {
   "display_name": "Python 3",
   "language": "python",
   "name": "python3"
  },
  "language_info": {
   "codemirror_mode": {
    "name": "ipython",
    "version": 3
   },
   "file_extension": ".py",
   "mimetype": "text/x-python",
   "name": "python",
   "nbconvert_exporter": "python",
   "pygments_lexer": "ipython3",
   "version": "3.7.2"
  }
 },
 "nbformat": 4,
 "nbformat_minor": 2
}
